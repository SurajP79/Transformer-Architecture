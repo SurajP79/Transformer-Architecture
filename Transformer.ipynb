{
  "nbformat": 4,
  "nbformat_minor": 0,
  "metadata": {
    "colab": {
      "provenance": []
    },
    "kernelspec": {
      "name": "python3",
      "display_name": "Python 3"
    },
    "language_info": {
      "name": "python"
    }
  },
  "cells": [
    {
      "cell_type": "code",
      "execution_count": null,
      "metadata": {
        "id": "eTzU9l1tG80E"
      },
      "outputs": [],
      "source": [
        "import torch\n",
        "import torch.nn as nn"
      ]
    },
    {
      "cell_type": "code",
      "source": [
        "import torch.nn.functional as F\n",
        "from torch import Tensor\n",
        "import numpy as np\n",
        "from typing import Optional, Tuple"
      ],
      "metadata": {
        "id": "fEO1mKUg-kiu"
      },
      "execution_count": null,
      "outputs": []
    },
    {
      "cell_type": "code",
      "source": [
        "class SelfAttention(nn.Module):\n",
        "    def __init__(self, embed_size, heads):\n",
        "        super(SelfAttention, self).__init__()\n",
        "        self.embed_size = embed_size\n",
        "        self.heads = heads\n",
        "        self.head_dim = embed_size // heads\n",
        "\n",
        "        assert (self.head_dim * heads == embed_size), \"embed_size needs to be divided by heads\"\n",
        "\n",
        "        self.values = nn.Linear(self.embed_size, self.embed_size, bias = False)\n",
        "        self.keys = nn.Linear(self.embed_size, self.embed_size, bias = False)\n",
        "        self.queries = nn.Linear(self.embed_size, self.embed_size, bias = False)\n",
        "        self.fc_out = nn.Linear(heads * self.head_dim, embed_size, bias = False)\n",
        "\n",
        "    def forward(self, values, keys, query, mask):\n",
        "        N = query.shape[0]\n",
        "        value_len, key_len, query_len = values.shape[1], keys.shape[1], query.shape[1]\n",
        "\n",
        "        # spliting embedding into self.heads peices\n",
        "        values = self.values(values).reshape(N, value_len, self.heads, self.head_dim)\n",
        "        keys = self.keys(keys).reshape(N, key_len, self.heads, self.head_dim)\n",
        "        queries = self.queries(query).reshape(N, query_len, self.heads, self.head_dim)\n",
        "\n",
        "        # query shape : (N, query_len, heads, head_dim)\n",
        "        # key_shape : (N, key_len, heads, head_dim)\n",
        "        # energy_shape : (N, heads, query_len,  key_len)\n",
        "        energy = torch.einsum(\"nqhd,nkhd-> nhqk\", [queries, keys])\n",
        "\n",
        "        if mask is not None:\n",
        "            energy = energy.masked_fill(mask == 0, float(\"-1e20\"))\n",
        "\n",
        "        attention = torch.softmax(energy / (self.embed_size ** (1/2)), dim = 3)\n",
        "\n",
        "        out = torch.einsum(\"nhqk,nvhd-> nqhd\", [attention, values]).reshape(N, query_len, self.heads*self.head_dim)\n",
        "\n",
        "        out = self.fc_out(out)\n",
        "        # attention shape : (N, heads, query_len, key_len)\n",
        "        # value shape : (N, value_len, heads, head_dim)\n",
        "        # (N, query_len, heads, head_dim)\n",
        "\n",
        "        return out"
      ],
      "metadata": {
        "id": "SrUlErYBHEDY"
      },
      "execution_count": null,
      "outputs": []
    },
    {
      "cell_type": "code",
      "source": [
        "class TransformerBlock(nn.Module):\n",
        "    def __init__(self, embed_size, heads, dropout, forward_expansion):\n",
        "        super(TransformerBlock, self).__init__()\n",
        "        self.attention = SelfAttention(embed_size, heads)\n",
        "        self.norm1 = nn.LayerNorm(embed_size)\n",
        "        self.norm2 = nn.LayerNorm(embed_size)\n",
        "\n",
        "        self.feed_forward = nn.Sequential(\n",
        "            nn.Linear(embed_size, forward_expansion*embed_size),\n",
        "            nn.ReLU(),\n",
        "            nn.Linear(forward_expansion*embed_size, embed_size)\n",
        "        )\n",
        "\n",
        "        self.dropout = nn.Dropout(dropout)\n",
        "\n",
        "    def forward(self, value, key, query, mask):\n",
        "        attention = self.attention(value, key, query, mask)\n",
        "\n",
        "        x = self.dropout(self.norm1(attention + query))\n",
        "        forward = self.feed_forward(x)\n",
        "        out = self.dropout(self.norm2(x + forward))\n",
        "\n",
        "        return out"
      ],
      "metadata": {
        "id": "jrk-A_5EaFK_"
      },
      "execution_count": null,
      "outputs": []
    },
    {
      "cell_type": "code",
      "source": [
        "class Encoder(nn.Module):\n",
        "    def __init__(\n",
        "        self,\n",
        "        src_vocab_size,\n",
        "        embed_size,\n",
        "        num_layer,\n",
        "        heads,\n",
        "        device,\n",
        "        forward_expansion,\n",
        "        dropout,\n",
        "        max_length,\n",
        "    ):\n",
        "        super(Encoder, self).__init__()\n",
        "        self.embed_size = embed_size\n",
        "        self.device = device\n",
        "        self.word_embedding = nn.Embedding(src_vocab_size, embed_size)\n",
        "        self.position_embedding = nn.Embedding(max_length, embed_size)\n",
        "\n",
        "        self.layers = nn.ModuleList(\n",
        "            [\n",
        "                TransformerBlock(\n",
        "                    embed_size,\n",
        "                    heads,\n",
        "                    dropout = dropout,\n",
        "                    forward_expansion = forward_expansion,\n",
        "                )\n",
        "            ]\n",
        "        )\n",
        "\n",
        "        self.dropout = nn.Dropout(dropout)\n",
        "\n",
        "    def forward(self, x, mask):\n",
        "        N, seq_length = x.shape\n",
        "        position = torch.arange(0, seq_length).expand(N, seq_length).to(self.device)\n",
        "        out = self.dropout(self.word_embedding(x) + self.position_embedding(position))\n",
        "\n",
        "        for layer in self.layers:\n",
        "            out = layer(out, out, out, mask)\n",
        "\n",
        "        return out"
      ],
      "metadata": {
        "id": "ebh8fAGBbmEN"
      },
      "execution_count": null,
      "outputs": []
    },
    {
      "cell_type": "code",
      "source": [
        "class DecoderBlock(nn.Module):\n",
        "    def __init__(self, embed_size, heads, forward_expansion, dropout, device):\n",
        "        super(DecoderBlock, self).__init__()\n",
        "        self.attention = SelfAttention(embed_size, heads)\n",
        "        self.norm = nn.LayerNorm(embed_size)\n",
        "\n",
        "        self.transformer_block = TransformerBlock(\n",
        "            embed_size, heads, dropout, forward_expansion\n",
        "        )\n",
        "\n",
        "        self.dropout = nn.Dropout(dropout)\n",
        "\n",
        "    def forward(self, x, value, key, src_mask, tgt_mask):\n",
        "        attention = self.attention(x, x, x, tgt_mask)\n",
        "        query = self.dropout(self.norm(attention + x))\n",
        "        out = self.transformer_block(value, key, query, src_mask)\n",
        "        return out"
      ],
      "metadata": {
        "id": "ky2kc4_-lIi-"
      },
      "execution_count": null,
      "outputs": []
    },
    {
      "cell_type": "code",
      "source": [
        "class Decoder(nn.Module):\n",
        "    def __init__(\n",
        "        self,\n",
        "        tgt_vocab_size,\n",
        "        embed_size,\n",
        "        num_layer,\n",
        "        heads,\n",
        "        forward_expansion,\n",
        "        dropout,\n",
        "        device,\n",
        "        max_length,\n",
        "    ):\n",
        "        super(Decoder, self).__init__()\n",
        "        self.device = device\n",
        "        self.word_embedding = nn.Embedding(tgt_vocab_size, embed_size)\n",
        "        self.position_embedding = nn.Embedding(max_length, embed_size)\n",
        "        self.layers = nn.ModuleList(\n",
        "            [\n",
        "                DecoderBlock(\n",
        "                    embed_size, heads, forward_expansion, dropout, device\n",
        "                )\n",
        "                for _ in range(num_layer)\n",
        "            ]\n",
        "        )\n",
        "        self.fc_out = nn.Linear(embed_size, tgt_vocab_size)\n",
        "        self.dropout = nn.Dropout(dropout)\n",
        "\n",
        "    def forward(self, x, en_out, src_mask, tgt_mask):\n",
        "        N, seq_length = x.shape\n",
        "        position = torch.arange(0, seq_length).expand(N, seq_length).to(self.device)\n",
        "        x = self.dropout(self.word_embedding(x) + self.position_embedding(position))\n",
        "\n",
        "        for layer in self.layers:\n",
        "            x = layer(x, en_out, en_out, src_mask, tgt_mask)\n",
        "\n",
        "        output = self.fc_out(x)\n",
        "        return output"
      ],
      "metadata": {
        "id": "IywJSe9GnSR7"
      },
      "execution_count": null,
      "outputs": []
    },
    {
      "cell_type": "code",
      "source": [
        "class Transformer(nn.Module):\n",
        "    def __init__(\n",
        "        self,\n",
        "        src_vocab_size,\n",
        "        tgt_vocab_size,\n",
        "        src_pad_idx,\n",
        "        tgt_pad_idx,\n",
        "        embed_size = 256,\n",
        "        num_layer = 6,\n",
        "        forward_expansion = 4,\n",
        "        heads = 8,\n",
        "        dropout = 0,\n",
        "        device = \"cpu\",\n",
        "        max_length  = 100,\n",
        "    ):\n",
        "        super(Transformer, self).__init__()\n",
        "\n",
        "        self.encoder = Encoder(\n",
        "            src_vocab_size,\n",
        "            embed_size,\n",
        "            num_layer,\n",
        "            heads,\n",
        "            device,\n",
        "            forward_expansion,\n",
        "            dropout,\n",
        "            max_length,\n",
        "        )\n",
        "\n",
        "        self.decoder = Decoder(\n",
        "            tgt_vocab_size,\n",
        "            embed_size,\n",
        "            num_layer,\n",
        "            heads,\n",
        "            forward_expansion,\n",
        "            dropout,\n",
        "            device,\n",
        "            max_length,\n",
        "        )\n",
        "\n",
        "        self.src_pad_idx = src_pad_idx\n",
        "        self.tgt_pad_idx = tgt_pad_idx\n",
        "        self.device = device\n",
        "\n",
        "    def make_src_mask(self, src):\n",
        "        src_mask = (src != self.src_pad_idx).unsqueeze(1).unsqueeze(2)\n",
        "        return src_mask.to(self.device)\n",
        "\n",
        "    def make_tgt_mask(self, tgt):\n",
        "        N, tgt_len = tgt.shape\n",
        "        tgt_mask = torch.tril(torch.ones(tgt_len, tgt_len)).expand(\n",
        "            N, 1, tgt_len, tgt_len\n",
        "        )\n",
        "        return tgt_mask.to(self.device)\n",
        "\n",
        "    def forward(self, src, tgt):\n",
        "        src_mask = self.make_src_mask(src)\n",
        "        tgt_mask = self.make_tgt_mask(tgt)\n",
        "        enc_src = self.encoder(src, src_mask)\n",
        "        out = self.decoder(tgt, enc_src, src_mask, tgt_mask)\n",
        "        return out"
      ],
      "metadata": {
        "id": "tdniwn2Wsh8u"
      },
      "execution_count": null,
      "outputs": []
    },
    {
      "cell_type": "code",
      "source": [
        "if __name__ == \"__main__\":\n",
        "    # device = torch.device(\"cuda\" if torch.cuda.is_available() else \"cpu\")\n",
        "    device = \"cpu\"\n",
        "\n",
        "    x = torch.tensor([[1,5,6,4,3,9,5,2,0], [1,8,7,3,4,5,6,7,2]]).to(device)\n",
        "\n",
        "    tgt = torch.tensor([[1,7,4,3,5,9,2,0], [1,5,6,2,4,7,6,2]]).to(device)\n",
        "\n",
        "    src_pad_idx = 0\n",
        "    tgt_pad_idx = 0\n",
        "    src_vocab_size = 10\n",
        "    tgt_vocab_size = 10\n",
        "\n",
        "    model = Transformer(src_vocab_size, tgt_vocab_size, src_pad_idx, tgt_pad_idx).to(device)\n",
        "\n",
        "    out = model(x, tgt[:, :-1])\n",
        "    print(out.shape)"
      ],
      "metadata": {
        "colab": {
          "base_uri": "https://localhost:8080/"
        },
        "id": "4w0YcQ7DuyO-",
        "outputId": "fbbc0168-0081-4d7b-a2df-f1c3baaa7b51"
      },
      "execution_count": null,
      "outputs": [
        {
          "output_type": "stream",
          "name": "stdout",
          "text": [
            "torch.Size([2, 7, 10])\n"
          ]
        }
      ]
    },
    {
      "cell_type": "code",
      "source": [
        "!pip install torchtext"
      ],
      "metadata": {
        "id": "D2QfCf0uwkoE"
      },
      "execution_count": null,
      "outputs": []
    },
    {
      "cell_type": "code",
      "source": [
        "from gensim.models import Word2Vec\n",
        "import numpy as np\n",
        "\n",
        "# Example sentence (5-6 lines)\n",
        "# text = '''Once, there was a miser who would hide all his gold under\n",
        "#           the stones in his garden. He never spent his gold, and without\n",
        "#           fail, he would count his coins before going to bed every day.\n",
        "#           One day a thief spotted him counting his coins. After the miser\n",
        "#           went to sleep, the thief stole all the gold.'''\n",
        "\n",
        "text = \"attention is all you need is a paper written by an indian\"\n",
        "\n",
        "# Tokenization and dataset creation\n",
        "tokens = text.split()\n",
        "n = 3  # Using 3-grams\n",
        "\n",
        "# Generate n-grams\n",
        "ngrams = [tokens[i:i + n] for i in range(len(tokens) - n + 1)]\n",
        "\n",
        "# Word2Vec embeddings\n",
        "word2vec_model = Word2Vec([tokens], vector_size=100, window=5, min_count=1, sg=1)  # Adjust parameters as needed\n",
        "\n",
        "# Use the Word2Vec model to get word embeddings\n",
        "input_sequences = [gram[:n-1] for gram in ngrams]\n",
        "next_words = [gram[-1] for gram in ngrams]\n",
        "\n",
        "# Convert sequences and words to Word2Vec embeddings\n",
        "input_vectors = [word2vec_model.wv[word] for word_sequence in input_sequences for word in word_sequence]\n",
        "next_word_vectors = [word2vec_model.wv[word] for word in next_words]\n",
        "\n",
        "# Convert to numpy arrays\n",
        "input_vectors = np.array(input_vectors)\n",
        "next_word_vectors = np.array(next_word_vectors)\n",
        "\n",
        "# Now you can combine the input_vectors and next_word_vectors to train your model\n"
      ],
      "metadata": {
        "id": "YdXbqm8FztJi"
      },
      "execution_count": null,
      "outputs": []
    },
    {
      "cell_type": "code",
      "source": [
        "len(next_word_vectors), len(next_word_vectors[0])"
      ],
      "metadata": {
        "colab": {
          "base_uri": "https://localhost:8080/"
        },
        "id": "aTE44psWY7WH",
        "outputId": "babef3db-2be3-4c7b-a07f-c2c897619fb4"
      },
      "execution_count": null,
      "outputs": [
        {
          "output_type": "execute_result",
          "data": {
            "text/plain": [
              "(10, 100)"
            ]
          },
          "metadata": {},
          "execution_count": 23
        }
      ]
    },
    {
      "cell_type": "code",
      "source": [
        "len(input_vectors), len(input_vectors[0])"
      ],
      "metadata": {
        "colab": {
          "base_uri": "https://localhost:8080/"
        },
        "id": "_jaMpxwDZes2",
        "outputId": "1f471f89-d8d9-46a1-8098-032eb9409223"
      },
      "execution_count": null,
      "outputs": [
        {
          "output_type": "execute_result",
          "data": {
            "text/plain": [
              "(20, 100)"
            ]
          },
          "metadata": {},
          "execution_count": 24
        }
      ]
    },
    {
      "cell_type": "code",
      "source": [
        "    print(\"Shape of input_vectors:\", input_vectors.shape)\n",
        "print(\"Shape of next_word_vectors:\", next_word_vectors.shape)"
      ],
      "metadata": {
        "colab": {
          "base_uri": "https://localhost:8080/"
        },
        "id": "faFz5VQiZ2qJ",
        "outputId": "1990b6ee-2967-425c-fee8-d323b5e0185e"
      },
      "execution_count": null,
      "outputs": [
        {
          "output_type": "stream",
          "name": "stdout",
          "text": [
            "Shape of input_vectors: (32, 100)\n",
            "Shape of next_word_vectors: (16, 100)\n"
          ]
        }
      ]
    },
    {
      "cell_type": "code",
      "source": [],
      "metadata": {
        "id": "9v3nIM2laQne"
      },
      "execution_count": null,
      "outputs": []
    }
  ]
}